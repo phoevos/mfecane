{
  "nbformat": 4,
  "nbformat_minor": 0,
  "metadata": {
    "kernelspec": {
      "display_name": "Python 3",
      "language": "python",
      "name": "python3"
    },
    "language_info": {
      "codemirror_mode": {
        "name": "ipython",
        "version": 3
      },
      "file_extension": ".py",
      "mimetype": "text/x-python",
      "name": "python",
      "nbconvert_exporter": "python",
      "pygments_lexer": "ipython3",
      "version": "3.7.3"
    },
    "colab": {
      "name": "plot_output.ipynb",
      "provenance": [],
      "collapsed_sections": [],
      "toc_visible": true
    }
  },
  "cells": [
    {
      "cell_type": "markdown",
      "metadata": {
        "id": "6iDXtcX8C2Nj"
      },
      "source": [
        "# Lab 4: Team 22\r\n",
        "\r\n",
        "[Αρχικός κώδικας και notebook](https://drive.google.com/drive/folders/1E8kMrfIANK7TVi8wFBxq2sasncG9WdI3?fbclid=IwAR3Fwh08OOf1sZUJA-4ietsKRIVrJnxpjSUmuqDlXbSNYnwX4VGMMvITStQ)\r\n",
        "\r\n",
        "## Ανακατασκευή εικόνας\r\n",
        "\r\n",
        "* Φοίβος Καλεμκερής (03116010)\r\n",
        "* Νικολέτα Ηλιακοπούλου (03116111)\r\n"
      ]
    },
    {
      "cell_type": "code",
      "metadata": {
        "id": "ewfOSrR7CNjO"
      },
      "source": [
        "import numpy as np\n",
        "import math\n",
        "import matplotlib.pyplot as plt"
      ],
      "execution_count": null,
      "outputs": []
    },
    {
      "cell_type": "code",
      "metadata": {
        "colab": {
          "base_uri": "https://localhost:8080/"
        },
        "id": "fKMYQ-67xYx8",
        "outputId": "bc7ce8b4-750c-40fd-de9e-4c389341bd5b"
      },
      "source": [
        "from google.colab import drive\n",
        "drive.mount('/content/drive')"
      ],
      "execution_count": null,
      "outputs": [
        {
          "output_type": "stream",
          "text": [
            "Mounted at /content/drive\n"
          ],
          "name": "stdout"
        }
      ]
    },
    {
      "cell_type": "markdown",
      "metadata": {
        "id": "XUyJry2yColk"
      },
      "source": [
        "## Useful Functions"
      ]
    },
    {
      "cell_type": "code",
      "metadata": {
        "id": "70lHikk8RsRn"
      },
      "source": [
        "def image_combiner(cut, generated):\n",
        "  full_image = np.concatenate((cut,generated))\n",
        "  return full_image"
      ],
      "execution_count": null,
      "outputs": []
    },
    {
      "cell_type": "code",
      "metadata": {
        "id": "7kRHetUUtKus"
      },
      "source": [
        "def psnr(img_data1, img_data2):\n",
        "    mse = np.mean( (img_data1 - img_data2) ** 2 )\n",
        "    if mse == 0:\n",
        "      return 100\n",
        "    PIXEL_MAX = 255.0\n",
        "    return 20 * math.log10(PIXEL_MAX / math.sqrt(mse))\n",
        "\n",
        "def max_error (img_data1, img_data2):\n",
        "    return np.max(abs(img_data1-img_data2))"
      ],
      "execution_count": null,
      "outputs": []
    },
    {
      "cell_type": "code",
      "metadata": {
        "id": "nbSnEuBNB2tq"
      },
      "source": [
        "#load data for half output images\r\n",
        "def load_generated(path):\r\n",
        "  f = open(path)\r\n",
        "  content = f.readlines()[1:]\r\n",
        "  f.close()\r\n",
        "\r\n",
        "  data_sw = []\r\n",
        "  data_hw = []\r\n",
        "\r\n",
        "  for s in content:\r\n",
        "    t = s.split(';')\r\n",
        "    data_sw.append(float(t[0]))\r\n",
        "    data_hw.append(float((t[1].split('\\n'))[0]))\r\n",
        "    \r\n",
        "  data_sw = np.asarray(data_sw)\r\n",
        "  data_hw = np.asarray(data_hw)\r\n",
        "\r\n",
        "  return (data_sw, data_hw)"
      ],
      "execution_count": null,
      "outputs": []
    },
    {
      "cell_type": "code",
      "metadata": {
        "id": "cxM5ETCK97e1"
      },
      "source": [
        "def show_combined(data, idx, offset):\r\n",
        "  # combined image for software output\r\n",
        "  output_sw = image_combiner(data[idx,:].reshape(14,28), data_sw[idx*offset:idx*offset+offset].reshape(14,28))\r\n",
        "\r\n",
        "  # combined image for hardware output\r\n",
        "  output_hw = image_combiner(data[idx,:].reshape(14,28), data_hw[idx*offset:idx*offset+offset].reshape(14,28))\r\n",
        "\r\n",
        "  plt.figure()\r\n",
        "  plt.title(\"Software output\")\r\n",
        "  plt.imshow(output_sw.reshape((28,28)).astype(np.float32), cmap = 'gray')\r\n",
        "  plt.axis('off')\r\n",
        "\r\n",
        "  plt.figure()\r\n",
        "  plt.title(\"Hardware output\")\r\n",
        "  plt.imshow(output_hw.reshape((28,28)).astype(np.float32), cmap = 'gray')\r\n",
        "  plt.axis('off')\r\n",
        "\r\n",
        "  return (output_sw, output_hw)"
      ],
      "execution_count": null,
      "outputs": []
    },
    {
      "cell_type": "markdown",
      "metadata": {
        "id": "0eL1HLxOCtS-"
      },
      "source": [
        "## Load Half-Image"
      ]
    },
    {
      "cell_type": "code",
      "metadata": {
        "id": "MuxEl1SDCNjO"
      },
      "source": [
        "# load data for half input images\n",
        "f = open('/content/drive/MyDrive/Ενσωματωμένα./Lab4/codes/data.txt')\n",
        "content = f.read()\n",
        "f.close()\n",
        "\n",
        "data = []\n",
        "\n",
        "for line in content.split('\\n'):\n",
        "    if line != '':\n",
        "        row = line.split(';')\n",
        "        data.append(list(map(float, row)))\n",
        "        \n",
        "        \n",
        "data = np.asarray(data)"
      ],
      "execution_count": null,
      "outputs": []
    },
    {
      "cell_type": "code",
      "metadata": {
        "colab": {
          "base_uri": "https://localhost:8080/"
        },
        "id": "pZphMqO4CNjO",
        "outputId": "342adfa3-21e8-4d96-a2f3-5ac4f6c0ddfc"
      },
      "source": [
        "data.shape"
      ],
      "execution_count": null,
      "outputs": [
        {
          "output_type": "execute_result",
          "data": {
            "text/plain": [
              "(10000, 392)"
            ]
          },
          "metadata": {
            "tags": []
          },
          "execution_count": 33
        }
      ]
    },
    {
      "cell_type": "code",
      "metadata": {
        "id": "Ggkf6qh1BttY"
      },
      "source": [
        "offset = 14*28  # offset for pixels of half image, do not change"
      ],
      "execution_count": null,
      "outputs": []
    },
    {
      "cell_type": "markdown",
      "metadata": {
        "id": "7-RbSYj4CFg7"
      },
      "source": [
        "## Tanh 8 bit\r\n",
        "\r\n",
        "Αρχικά, δοκιμάζουμε την έκδοση του κώδικα που δίνεται (8 bit). Αφού παράξουμε το αρχείο output.txt στο zybo, φορτώνουμε τα δεδομένα για τη μισή εικόνα, όπως φαίνεται παρακάτω:"
      ]
    },
    {
      "cell_type": "code",
      "metadata": {
        "id": "LY1HNVl-CNjS"
      },
      "source": [
        "data_sw, data_hw = load_generated('/content/drive/MyDrive/Ενσωματωμένα./Lab4/codes/outputs/initial_output.txt')"
      ],
      "execution_count": null,
      "outputs": []
    },
    {
      "cell_type": "markdown",
      "metadata": {
        "id": "bxKZyE6J9hKJ"
      },
      "source": [
        "Έπειτα, πειραματιζόμαστε με διαφορετικές τιμές του idx, προκειμένου να ελέγξουμε την απόδοση για διαφορετικές εικόνες."
      ]
    },
    {
      "cell_type": "markdown",
      "metadata": {
        "id": "gt_JBs5f6HNq"
      },
      "source": [
        "### idx = 10"
      ]
    },
    {
      "cell_type": "code",
      "metadata": {
        "colab": {
          "base_uri": "https://localhost:8080/",
          "height": 216
        },
        "id": "_EUBlxrSCNjR",
        "outputId": "ccf3b9f0-7071-492e-d5bc-d96fbd5084a3"
      },
      "source": [
        "#Set Image to evaluate\n",
        "idx = 10\n",
        "\n",
        "plt.figure()\n",
        "plt.imshow(data[idx,:].reshape(14,28), cmap = 'gray')\n",
        "plt.axis('off')"
      ],
      "execution_count": null,
      "outputs": [
        {
          "output_type": "execute_result",
          "data": {
            "text/plain": [
              "(-0.5, 27.5, 13.5, -0.5)"
            ]
          },
          "metadata": {
            "tags": []
          },
          "execution_count": 63
        },
        {
          "output_type": "display_data",
          "data": {
            "image/png": "[encoded data removed]",
            "text/plain": [
              "<Figure size 432x288 with 1 Axes>"
            ]
          },
          "metadata": {
            "tags": [],
            "needs_background": "light"
          }
        }
      ]
    },
    {
      "cell_type": "code",
      "metadata": {
        "id": "4wV_P3mHTaPF",
        "colab": {
          "base_uri": "https://localhost:8080/",
          "height": 511
        },
        "outputId": "565246b6-0b98-496a-d6ab-da1b2d14cd55"
      },
      "source": [
        "output_sw, output_hw = show_combined(data, idx, offset)"
      ],
      "execution_count": null,
      "outputs": [
        {
          "output_type": "display_data",
          "data": {
            "image/png": "[encoded data removed]",
            "text/plain": [
              "<Figure size 432x288 with 1 Axes>"
            ]
          },
          "metadata": {
            "tags": [],
            "needs_background": "light"
          }
        },
        {
          "output_type": "display_data",
          "data": {
            "image/png": "[encoded data removed]",
            "text/plain": [
              "<Figure size 432x288 with 1 Axes>"
            ]
          },
          "metadata": {
            "tags": [],
            "needs_background": "light"
          }
        }
      ]
    },
    {
      "cell_type": "code",
      "metadata": {
        "id": "lseZK-UntJst"
      },
      "source": [
        "# scale images to 0-255\n",
        "img_data_hw=(output_hw*127.5 + 127.5).astype(int)\n",
        "img_data_sw=(output_sw*127.5 + 127.5).astype(int)"
      ],
      "execution_count": null,
      "outputs": []
    },
    {
      "cell_type": "code",
      "metadata": {
        "id": "OZh2_Om2tNLF",
        "colab": {
          "base_uri": "https://localhost:8080/"
        },
        "outputId": "94ec3efe-1d8f-4085-d1d3-1d9909b197b3"
      },
      "source": [
        "print (\"Max pixel error: \", max_error(img_data_sw, img_data_hw))\n",
        "print (\"Peak Signal-to-Noise Ratio: \", psnr(img_data_sw, img_data_hw))"
      ],
      "execution_count": null,
      "outputs": [
        {
          "output_type": "stream",
          "text": [
            "Max pixel error:  16\n",
            "Peak Signal-to-Noise Ratio:  42.6822168370888\n"
          ],
          "name": "stdout"
        }
      ]
    },
    {
      "cell_type": "markdown",
      "metadata": {
        "id": "AWYtoYjnyqYu"
      },
      "source": [
        "### idx = 11"
      ]
    },
    {
      "cell_type": "code",
      "metadata": {
        "colab": {
          "base_uri": "https://localhost:8080/",
          "height": 216
        },
        "id": "EEpceEYZybJS",
        "outputId": "596b79df-bc01-4282-cb5a-5e166ff258f6"
      },
      "source": [
        "#Set Image to evaluate\n",
        "idx = 11\n",
        "\n",
        "plt.figure()\n",
        "plt.imshow(data[idx,:].reshape(14,28), cmap = 'gray')\n",
        "plt.axis('off')"
      ],
      "execution_count": null,
      "outputs": [
        {
          "output_type": "execute_result",
          "data": {
            "text/plain": [
              "(-0.5, 27.5, 13.5, -0.5)"
            ]
          },
          "metadata": {
            "tags": []
          },
          "execution_count": 67
        },
        {
          "output_type": "display_data",
          "data": {
            "image/png": "[encoded data removed]",
            "text/plain": [
              "<Figure size 432x288 with 1 Axes>"
            ]
          },
          "metadata": {
            "tags": [],
            "needs_background": "light"
          }
        }
      ]
    },
    {
      "cell_type": "code",
      "metadata": {
        "colab": {
          "base_uri": "https://localhost:8080/",
          "height": 511
        },
        "id": "4Ou1EsR0y3TY",
        "outputId": "05576067-5d7e-4283-acf9-733453076a34"
      },
      "source": [
        "output_sw, output_hw = show_combined(data, idx, offset)"
      ],
      "execution_count": null,
      "outputs": [
        {
          "output_type": "display_data",
          "data": {
            "image/png": "[encoded data removed]",
            "text/plain": [
              "<Figure size 432x288 with 1 Axes>"
            ]
          },
          "metadata": {
            "tags": [],
            "needs_background": "light"
          }
        },
        {
          "output_type": "display_data",
          "data": {
            "image/png": "[encoded data removed]",
            "text/plain": [
              "<Figure size 432x288 with 1 Axes>"
            ]
          },
          "metadata": {
            "tags": [],
            "needs_background": "light"
          }
        }
      ]
    },
    {
      "cell_type": "code",
      "metadata": {
        "id": "fpRwwHW8zYNa"
      },
      "source": [
        "# scale images to 0-255\n",
        "img_data_hw=(output_hw*127.5 + 127.5).astype(int)\n",
        "img_data_sw=(output_sw*127.5 + 127.5).astype(int)"
      ],
      "execution_count": null,
      "outputs": []
    },
    {
      "cell_type": "code",
      "metadata": {
        "colab": {
          "base_uri": "https://localhost:8080/"
        },
        "id": "RDZh_b9ozZSi",
        "outputId": "72ca1e19-d80f-4951-a313-90bab3bae7d2"
      },
      "source": [
        "print (\"Max pixel error: \", max_error(img_data_sw, img_data_hw))\n",
        "print (\"Peak Signal-to-Noise Ratio: \", psnr(img_data_sw, img_data_hw))"
      ],
      "execution_count": null,
      "outputs": [
        {
          "output_type": "stream",
          "text": [
            "Max pixel error:  17\n",
            "Peak Signal-to-Noise Ratio:  42.56993337396983\n"
          ],
          "name": "stdout"
        }
      ]
    },
    {
      "cell_type": "markdown",
      "metadata": {
        "id": "gj_cHTQu2eTk"
      },
      "source": [
        "### idx = 12"
      ]
    },
    {
      "cell_type": "code",
      "metadata": {
        "colab": {
          "base_uri": "https://localhost:8080/",
          "height": 216
        },
        "id": "4jtbknEC2jvN",
        "outputId": "66e6fe5b-86c9-4ff5-fe52-641a39ecad84"
      },
      "source": [
        "#Set Image to evaluate\n",
        "idx = 12\n",
        "\n",
        "plt.figure()\n",
        "plt.imshow(data[idx,:].reshape(14,28), cmap = 'gray')\n",
        "plt.axis('off')"
      ],
      "execution_count": null,
      "outputs": [
        {
          "output_type": "execute_result",
          "data": {
            "text/plain": [
              "(-0.5, 27.5, 13.5, -0.5)"
            ]
          },
          "metadata": {
            "tags": []
          },
          "execution_count": 71
        },
        {
          "output_type": "display_data",
          "data": {
            "image/png": "[encoded data removed]",
            "text/plain": [
              "<Figure size 432x288 with 1 Axes>"
            ]
          },
          "metadata": {
            "tags": [],
            "needs_background": "light"
          }
        }
      ]
    },
    {
      "cell_type": "code",
      "metadata": {
        "colab": {
          "base_uri": "https://localhost:8080/",
          "height": 511
        },
        "id": "LSWKTBue2wG1",
        "outputId": "7dc53a37-bc4c-4f35-fec0-b0d9c94b7b9c"
      },
      "source": [
        "output_sw, output_hw = show_combined(data, idx, offset)"
      ],
      "execution_count": null,
      "outputs": [
        {
          "output_type": "display_data",
          "data": {
            "image/png": "[encoded data removed]",
            "text/plain": [
              "<Figure size 432x288 with 1 Axes>"
            ]
          },
          "metadata": {
            "tags": [],
            "needs_background": "light"
          }
        },
        {
          "output_type": "display_data",
          "data": {
            "image/png": "[encoded data removed]",
            "text/plain": [
              "<Figure size 432x288 with 1 Axes>"
            ]
          },
          "metadata": {
            "tags": [],
            "needs_background": "light"
          }
        }
      ]
    },
    {
      "cell_type": "code",
      "metadata": {
        "id": "Yc0bgEUF3ArX"
      },
      "source": [
        "# scale images to 0-255\n",
        "img_data_hw=(output_hw*127.5 + 127.5).astype(int)\n",
        "img_data_sw=(output_sw*127.5 + 127.5).astype(int)"
      ],
      "execution_count": null,
      "outputs": []
    },
    {
      "cell_type": "code",
      "metadata": {
        "id": "rHKvGjp83GDA",
        "colab": {
          "base_uri": "https://localhost:8080/"
        },
        "outputId": "03a2afb3-7c34-4639-f1f9-78b730767b2a"
      },
      "source": [
        "print (\"Max pixel error: \", max_error(img_data_sw, img_data_hw))\n",
        "print (\"Peak Signal-to-Noise Ratio: \", psnr(img_data_sw, img_data_hw))"
      ],
      "execution_count": null,
      "outputs": [
        {
          "output_type": "stream",
          "text": [
            "Max pixel error:  13\n",
            "Peak Signal-to-Noise Ratio:  47.065287020211215\n"
          ],
          "name": "stdout"
        }
      ]
    },
    {
      "cell_type": "markdown",
      "metadata": {
        "id": "esR6DUxjBIkj"
      },
      "source": [
        "## Tanh 4 bit\r\n",
        "\r\n",
        "Ύστερα, δοκιμάζουμε για 4 bit. Αφού παράξουμε το αρχείο output.txt στο zybo, φορτώνουμε τα δεδομένα για τη μισή εικόνα, όπως φαίνεται παρακάτω:"
      ]
    },
    {
      "cell_type": "code",
      "metadata": {
        "id": "cf6Xlgi-BIk5"
      },
      "source": [
        "data_sw, data_hw = load_generated('/content/drive/MyDrive/Ενσωματωμένα./Lab4/codes/outputs/tanh_4_output.txt')"
      ],
      "execution_count": null,
      "outputs": []
    },
    {
      "cell_type": "markdown",
      "metadata": {
        "id": "gBu2Pc_ZBIk6"
      },
      "source": [
        "Έπειτα, πειραματιζόμαστε με διαφορετικές τιμές του idx, προκειμένου να ελέγξουμε την απόδοση για διαφορετικές εικόνες."
      ]
    },
    {
      "cell_type": "markdown",
      "metadata": {
        "id": "vi2hzbtcBIk7"
      },
      "source": [
        "### idx = 10"
      ]
    },
    {
      "cell_type": "code",
      "metadata": {
        "colab": {
          "base_uri": "https://localhost:8080/",
          "height": 216
        },
        "id": "z1k53u2gBIk7",
        "outputId": "78ae40d6-fd31-48ad-9410-a5ed3cf87c60"
      },
      "source": [
        "#Set Image to evaluate\n",
        "idx = 10\n",
        "\n",
        "plt.figure()\n",
        "plt.imshow(data[idx,:].reshape(14,28), cmap = 'gray')\n",
        "plt.axis('off')"
      ],
      "execution_count": null,
      "outputs": [
        {
          "output_type": "execute_result",
          "data": {
            "text/plain": [
              "(-0.5, 27.5, 13.5, -0.5)"
            ]
          },
          "metadata": {
            "tags": []
          },
          "execution_count": 50
        },
        {
          "output_type": "display_data",
          "data": {
            "image/png": "[encoded data removed]",
            "text/plain": [
              "<Figure size 432x288 with 1 Axes>"
            ]
          },
          "metadata": {
            "tags": [],
            "needs_background": "light"
          }
        }
      ]
    },
    {
      "cell_type": "code",
      "metadata": {
        "colab": {
          "base_uri": "https://localhost:8080/",
          "height": 511
        },
        "id": "Ki32RZu8BIk8",
        "outputId": "adbc438b-0839-419d-faba-26144f671e38"
      },
      "source": [
        "output_sw, output_hw = show_combined(data, idx, offset)"
      ],
      "execution_count": null,
      "outputs": [
        {
          "output_type": "display_data",
          "data": {
            "image/png": "[encoded data removed]",
            "text/plain": [
              "<Figure size 432x288 with 1 Axes>"
            ]
          },
          "metadata": {
            "tags": [],
            "needs_background": "light"
          }
        },
        {
          "output_type": "display_data",
          "data": {
            "image/png": "[encoded data removed]",
            "text/plain": [
              "<Figure size 432x288 with 1 Axes>"
            ]
          },
          "metadata": {
            "tags": [],
            "needs_background": "light"
          }
        }
      ]
    },
    {
      "cell_type": "code",
      "metadata": {
        "id": "b6xDu8AqBIk8"
      },
      "source": [
        "# scale images to 0-255\n",
        "img_data_hw=(output_hw*127.5 + 127.5).astype(int)\n",
        "img_data_sw=(output_sw*127.5 + 127.5).astype(int)"
      ],
      "execution_count": null,
      "outputs": []
    },
    {
      "cell_type": "code",
      "metadata": {
        "colab": {
          "base_uri": "https://localhost:8080/"
        },
        "id": "0OJdz8RjBIk8",
        "outputId": "ca55b2e6-4036-4276-919e-8e0932dbfc2e"
      },
      "source": [
        "print (\"Max pixel error: \", max_error(img_data_sw, img_data_hw))\n",
        "print (\"Peak Signal-to-Noise Ratio: \", psnr(img_data_sw, img_data_hw))"
      ],
      "execution_count": null,
      "outputs": [
        {
          "output_type": "stream",
          "text": [
            "Max pixel error:  255\n",
            "Peak Signal-to-Noise Ratio:  14.051663945384881\n"
          ],
          "name": "stdout"
        }
      ]
    },
    {
      "cell_type": "markdown",
      "metadata": {
        "id": "ToZDach1BIk9"
      },
      "source": [
        "### idx = 11"
      ]
    },
    {
      "cell_type": "code",
      "metadata": {
        "colab": {
          "base_uri": "https://localhost:8080/",
          "height": 216
        },
        "id": "m-z2DGe5BIk9",
        "outputId": "270a4d34-d902-417c-d196-deffd2d60048"
      },
      "source": [
        "#Set Image to evaluate\n",
        "idx = 11\n",
        "\n",
        "plt.figure()\n",
        "plt.imshow(data[idx,:].reshape(14,28), cmap = 'gray')\n",
        "plt.axis('off')"
      ],
      "execution_count": null,
      "outputs": [
        {
          "output_type": "execute_result",
          "data": {
            "text/plain": [
              "(-0.5, 27.5, 13.5, -0.5)"
            ]
          },
          "metadata": {
            "tags": []
          },
          "execution_count": 54
        },
        {
          "output_type": "display_data",
          "data": {
            "image/png": "[encoded data removed]",
            "text/plain": [
              "<Figure size 432x288 with 1 Axes>"
            ]
          },
          "metadata": {
            "tags": [],
            "needs_background": "light"
          }
        }
      ]
    },
    {
      "cell_type": "code",
      "metadata": {
        "colab": {
          "base_uri": "https://localhost:8080/",
          "height": 511
        },
        "id": "lXZqwkLQBIk9",
        "outputId": "66448449-d147-4d5d-9cbc-56bba09dcab4"
      },
      "source": [
        "output_sw, output_hw = show_combined(data, idx, offset)"
      ],
      "execution_count": null,
      "outputs": [
        {
          "output_type": "display_data",
          "data": {
            "image/png": "[encoded data removed]",
            "text/plain": [
              "<Figure size 432x288 with 1 Axes>"
            ]
          },
          "metadata": {
            "tags": [],
            "needs_background": "light"
          }
        },
        {
          "output_type": "display_data",
          "data": {
            "image/png": "[encoded data removed]",
            "text/plain": [
              "<Figure size 432x288 with 1 Axes>"
            ]
          },
          "metadata": {
            "tags": [],
            "needs_background": "light"
          }
        }
      ]
    },
    {
      "cell_type": "code",
      "metadata": {
        "id": "ZKoFpy65BIk-"
      },
      "source": [
        "# scale images to 0-255\n",
        "img_data_hw=(output_hw*127.5 + 127.5).astype(int)\n",
        "img_data_sw=(output_sw*127.5 + 127.5).astype(int)"
      ],
      "execution_count": null,
      "outputs": []
    },
    {
      "cell_type": "code",
      "metadata": {
        "colab": {
          "base_uri": "https://localhost:8080/"
        },
        "id": "3IeXH4_XBIk-",
        "outputId": "677a3624-6712-40c5-a18b-882678af1b70"
      },
      "source": [
        "print (\"Max pixel error: \", max_error(img_data_sw, img_data_hw))\n",
        "print (\"Peak Signal-to-Noise Ratio: \", psnr(img_data_sw, img_data_hw))"
      ],
      "execution_count": null,
      "outputs": [
        {
          "output_type": "stream",
          "text": [
            "Max pixel error:  249\n",
            "Peak Signal-to-Noise Ratio:  14.634988266184102\n"
          ],
          "name": "stdout"
        }
      ]
    },
    {
      "cell_type": "markdown",
      "metadata": {
        "id": "icZEgfLvBIk-"
      },
      "source": [
        "### idx = 12"
      ]
    },
    {
      "cell_type": "code",
      "metadata": {
        "colab": {
          "base_uri": "https://localhost:8080/",
          "height": 216
        },
        "id": "1KeXwVFPBIk-",
        "outputId": "8c6070dd-25c7-4769-a0dd-0e805c340ada"
      },
      "source": [
        "#Set Image to evaluate\n",
        "idx = 12\n",
        "\n",
        "plt.figure()\n",
        "plt.imshow(data[idx,:].reshape(14,28), cmap = 'gray')\n",
        "plt.axis('off')"
      ],
      "execution_count": null,
      "outputs": [
        {
          "output_type": "execute_result",
          "data": {
            "text/plain": [
              "(-0.5, 27.5, 13.5, -0.5)"
            ]
          },
          "metadata": {
            "tags": []
          },
          "execution_count": 58
        },
        {
          "output_type": "display_data",
          "data": {
            "image/png": "[encoded data removed]",
            "text/plain": [
              "<Figure size 432x288 with 1 Axes>"
            ]
          },
          "metadata": {
            "tags": [],
            "needs_background": "light"
          }
        }
      ]
    },
    {
      "cell_type": "code",
      "metadata": {
        "colab": {
          "base_uri": "https://localhost:8080/",
          "height": 511
        },
        "id": "iGRjLqrwBIk_",
        "outputId": "e4f41e18-e758-4e97-b001-2241e86a5ba7"
      },
      "source": [
        "output_sw, output_hw = show_combined(data, idx, offset)"
      ],
      "execution_count": null,
      "outputs": [
        {
          "output_type": "display_data",
          "data": {
            "image/png": "[encoded data removed]",
            "text/plain": [
              "<Figure size 432x288 with 1 Axes>"
            ]
          },
          "metadata": {
            "tags": [],
            "needs_background": "light"
          }
        },
        {
          "output_type": "display_data",
          "data": {
            "image/png": "[encoded data removed]",
            "text/plain": [
              "<Figure size 432x288 with 1 Axes>"
            ]
          },
          "metadata": {
            "tags": [],
            "needs_background": "light"
          }
        }
      ]
    },
    {
      "cell_type": "code",
      "metadata": {
        "id": "3nuKy9X_BIk_"
      },
      "source": [
        "# scale images to 0-255\n",
        "img_data_hw=(output_hw*127.5 + 127.5).astype(int)\n",
        "img_data_sw=(output_sw*127.5 + 127.5).astype(int)"
      ],
      "execution_count": null,
      "outputs": []
    },
    {
      "cell_type": "code",
      "metadata": {
        "colab": {
          "base_uri": "https://localhost:8080/"
        },
        "id": "QVqD_E2eBIk_",
        "outputId": "3d73dd22-2355-498f-c9e4-c03f022c8539"
      },
      "source": [
        "print (\"Max pixel error: \", max_error(img_data_sw, img_data_hw))\n",
        "print (\"Peak Signal-to-Noise Ratio: \", psnr(img_data_sw, img_data_hw))"
      ],
      "execution_count": null,
      "outputs": [
        {
          "output_type": "stream",
          "text": [
            "Max pixel error:  255\n",
            "Peak Signal-to-Noise Ratio:  13.525831164368576\n"
          ],
          "name": "stdout"
        }
      ]
    },
    {
      "cell_type": "markdown",
      "metadata": {
        "id": "6wCjfCZSDA5x"
      },
      "source": [
        "## Tanh 10 bit\r\n",
        "\r\n",
        "Τέλος, δοκιμάζουμε για 10 bit. Αφού παράξουμε το αρχείο output.txt στο zybo, φορτώνουμε τα δεδομένα για τη μισή εικόνα, όπως φαίνεται παρακάτω:"
      ]
    },
    {
      "cell_type": "code",
      "metadata": {
        "id": "wggVEtuXDA56"
      },
      "source": [
        "data_sw, data_hw = load_generated('/content/drive/MyDrive/Ενσωματωμένα./Lab4/codes/outputs/tanh_10_output.txt')"
      ],
      "execution_count": null,
      "outputs": []
    },
    {
      "cell_type": "markdown",
      "metadata": {
        "id": "af1XwBrjDA56"
      },
      "source": [
        "Έπειτα, πειραματιζόμαστε με διαφορετικές τιμές του idx, προκειμένου να ελέγξουμε την απόδοση για διαφορετικές εικόνες."
      ]
    },
    {
      "cell_type": "markdown",
      "metadata": {
        "id": "EMzgMnnxDA56"
      },
      "source": [
        "### idx = 10"
      ]
    },
    {
      "cell_type": "code",
      "metadata": {
        "colab": {
          "base_uri": "https://localhost:8080/",
          "height": 216
        },
        "id": "MM4p5TQeDA56",
        "outputId": "a6f75063-b25c-465c-935d-0a27c4b09d2b"
      },
      "source": [
        "#Set Image to evaluate\n",
        "idx = 10\n",
        "\n",
        "plt.figure()\n",
        "plt.imshow(data[idx,:].reshape(14,28), cmap = 'gray')\n",
        "plt.axis('off')"
      ],
      "execution_count": null,
      "outputs": [
        {
          "output_type": "execute_result",
          "data": {
            "text/plain": [
              "(-0.5, 27.5, 13.5, -0.5)"
            ]
          },
          "metadata": {
            "tags": []
          },
          "execution_count": 76
        },
        {
          "output_type": "display_data",
          "data": {
            "image/png": "[encoded data removed]",
            "text/plain": [
              "<Figure size 432x288 with 1 Axes>"
            ]
          },
          "metadata": {
            "tags": [],
            "needs_background": "light"
          }
        }
      ]
    },
    {
      "cell_type": "code",
      "metadata": {
        "colab": {
          "base_uri": "https://localhost:8080/",
          "height": 511
        },
        "id": "ZHnrTTphDA57",
        "outputId": "d83376ce-ff27-444f-e4ba-170f55b24110"
      },
      "source": [
        "output_sw, output_hw = show_combined(data, idx, offset)"
      ],
      "execution_count": null,
      "outputs": [
        {
          "output_type": "display_data",
          "data": {
            "image/png": "[encoded data removed]",
            "text/plain": [
              "<Figure size 432x288 with 1 Axes>"
            ]
          },
          "metadata": {
            "tags": [],
            "needs_background": "light"
          }
        },
        {
          "output_type": "display_data",
          "data": {
            "image/png": "[encoded data removed]",
            "text/plain": [
              "<Figure size 432x288 with 1 Axes>"
            ]
          },
          "metadata": {
            "tags": [],
            "needs_background": "light"
          }
        }
      ]
    },
    {
      "cell_type": "code",
      "metadata": {
        "id": "a7a_MCqRDA57"
      },
      "source": [
        "# scale images to 0-255\n",
        "img_data_hw=(output_hw*127.5 + 127.5).astype(int)\n",
        "img_data_sw=(output_sw*127.5 + 127.5).astype(int)"
      ],
      "execution_count": null,
      "outputs": []
    },
    {
      "cell_type": "code",
      "metadata": {
        "colab": {
          "base_uri": "https://localhost:8080/"
        },
        "id": "1YGzeXdNDA57",
        "outputId": "9a6e28bb-1e6c-4318-bd93-5efe20143a37"
      },
      "source": [
        "print (\"Max pixel error: \", max_error(img_data_sw, img_data_hw))\n",
        "print (\"Peak Signal-to-Noise Ratio: \", psnr(img_data_sw, img_data_hw))"
      ],
      "execution_count": null,
      "outputs": [
        {
          "output_type": "stream",
          "text": [
            "Max pixel error:  5\n",
            "Peak Signal-to-Noise Ratio:  54.08543347142643\n"
          ],
          "name": "stdout"
        }
      ]
    },
    {
      "cell_type": "markdown",
      "metadata": {
        "id": "zot1hIMXDA58"
      },
      "source": [
        "### idx = 11"
      ]
    },
    {
      "cell_type": "code",
      "metadata": {
        "colab": {
          "base_uri": "https://localhost:8080/",
          "height": 216
        },
        "id": "3PVF45LbDA58",
        "outputId": "2acc0bce-07ab-4f20-f053-bf7172bdd51c"
      },
      "source": [
        "#Set Image to evaluate\n",
        "idx = 11\n",
        "\n",
        "plt.figure()\n",
        "plt.imshow(data[idx,:].reshape(14,28), cmap = 'gray')\n",
        "plt.axis('off')"
      ],
      "execution_count": null,
      "outputs": [
        {
          "output_type": "execute_result",
          "data": {
            "text/plain": [
              "(-0.5, 27.5, 13.5, -0.5)"
            ]
          },
          "metadata": {
            "tags": []
          },
          "execution_count": 80
        },
        {
          "output_type": "display_data",
          "data": {
            "image/png": "[encoded data removed]",
            "text/plain": [
              "<Figure size 432x288 with 1 Axes>"
            ]
          },
          "metadata": {
            "tags": [],
            "needs_background": "light"
          }
        }
      ]
    },
    {
      "cell_type": "code",
      "metadata": {
        "colab": {
          "base_uri": "https://localhost:8080/",
          "height": 511
        },
        "id": "8hOSGigoDA58",
        "outputId": "c0b616bf-5ed1-41a0-cacc-1fad6a31b3ab"
      },
      "source": [
        "output_sw, output_hw = show_combined(data, idx, offset)"
      ],
      "execution_count": null,
      "outputs": [
        {
          "output_type": "display_data",
          "data": {
            "image/png": "[encoded data removed]",
            "text/plain": [
              "<Figure size 432x288 with 1 Axes>"
            ]
          },
          "metadata": {
            "tags": [],
            "needs_background": "light"
          }
        },
        {
          "output_type": "display_data",
          "data": {
            "image/png": "[encoded data removed]",
            "text/plain": [
              "<Figure size 432x288 with 1 Axes>"
            ]
          },
          "metadata": {
            "tags": [],
            "needs_background": "light"
          }
        }
      ]
    },
    {
      "cell_type": "code",
      "metadata": {
        "id": "ig0Z02tNDA58"
      },
      "source": [
        "# scale images to 0-255\n",
        "img_data_hw=(output_hw*127.5 + 127.5).astype(int)\n",
        "img_data_sw=(output_sw*127.5 + 127.5).astype(int)"
      ],
      "execution_count": null,
      "outputs": []
    },
    {
      "cell_type": "code",
      "metadata": {
        "colab": {
          "base_uri": "https://localhost:8080/"
        },
        "id": "-mBbPk_GDA58",
        "outputId": "84fe044e-9e46-43dc-e097-eefcf8488a4d"
      },
      "source": [
        "print (\"Max pixel error: \", max_error(img_data_sw, img_data_hw))\n",
        "print (\"Peak Signal-to-Noise Ratio: \", psnr(img_data_sw, img_data_hw))"
      ],
      "execution_count": null,
      "outputs": [
        {
          "output_type": "stream",
          "text": [
            "Max pixel error:  5\n",
            "Peak Signal-to-Noise Ratio:  52.556099880280584\n"
          ],
          "name": "stdout"
        }
      ]
    },
    {
      "cell_type": "markdown",
      "metadata": {
        "id": "vY5KaU-3DA59"
      },
      "source": [
        "### idx = 12"
      ]
    },
    {
      "cell_type": "code",
      "metadata": {
        "colab": {
          "base_uri": "https://localhost:8080/",
          "height": 216
        },
        "id": "Byu_SLmuDA59",
        "outputId": "7909fa13-b68b-4c04-f23c-adfd3f8c23c9"
      },
      "source": [
        "#Set Image to evaluate\n",
        "idx = 12\n",
        "\n",
        "plt.figure()\n",
        "plt.imshow(data[idx,:].reshape(14,28), cmap = 'gray')\n",
        "plt.axis('off')"
      ],
      "execution_count": null,
      "outputs": [
        {
          "output_type": "execute_result",
          "data": {
            "text/plain": [
              "(-0.5, 27.5, 13.5, -0.5)"
            ]
          },
          "metadata": {
            "tags": []
          },
          "execution_count": 85
        },
        {
          "output_type": "display_data",
          "data": {
            "image/png": "[encoded data removed]",
            "text/plain": [
              "<Figure size 432x288 with 1 Axes>"
            ]
          },
          "metadata": {
            "tags": [],
            "needs_background": "light"
          }
        }
      ]
    },
    {
      "cell_type": "code",
      "metadata": {
        "colab": {
          "base_uri": "https://localhost:8080/",
          "height": 511
        },
        "id": "UTBXAO4kDA59",
        "outputId": "b71e6e48-f858-4066-9c53-eaeba9cb342d"
      },
      "source": [
        "output_sw, output_hw = show_combined(data, idx, offset)"
      ],
      "execution_count": null,
      "outputs": [
        {
          "output_type": "display_data",
          "data": {
            "image/png": "[encoded data removed]",
            "text/plain": [
              "<Figure size 432x288 with 1 Axes>"
            ]
          },
          "metadata": {
            "tags": [],
            "needs_background": "light"
          }
        },
        {
          "output_type": "display_data",
          "data": {
            "image/png": "[encoded data removed]",
            "text/plain": [
              "<Figure size 432x288 with 1 Axes>"
            ]
          },
          "metadata": {
            "tags": [],
            "needs_background": "light"
          }
        }
      ]
    },
    {
      "cell_type": "code",
      "metadata": {
        "id": "SIyps7BsDA59"
      },
      "source": [
        "# scale images to 0-255\n",
        "img_data_hw=(output_hw*127.5 + 127.5).astype(int)\n",
        "img_data_sw=(output_sw*127.5 + 127.5).astype(int)"
      ],
      "execution_count": null,
      "outputs": []
    },
    {
      "cell_type": "code",
      "metadata": {
        "colab": {
          "base_uri": "https://localhost:8080/"
        },
        "id": "VjIS3UEODA59",
        "outputId": "c0c370ac-8e3c-479d-e1e4-c01568fce320"
      },
      "source": [
        "print (\"Max pixel error: \", max_error(img_data_sw, img_data_hw))\n",
        "print (\"Peak Signal-to-Noise Ratio: \", psnr(img_data_sw, img_data_hw))"
      ],
      "execution_count": null,
      "outputs": [
        {
          "output_type": "stream",
          "text": [
            "Max pixel error:  4\n",
            "Peak Signal-to-Noise Ratio:  53.76982650203158\n"
          ],
          "name": "stdout"
        }
      ]
    }
  ]
}